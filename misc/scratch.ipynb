{
 "cells": [
  {
   "cell_type": "code",
   "execution_count": 1,
   "metadata": {},
   "outputs": [],
   "source": [
    "# arn:aws:s3:::export-test-tmuth\n",
    "# https://export-test-tmuth.s3.amazonaws.com/test1/\n",
    "# s3://export-test-tmuth/test1/\n",
    "from smart_open import open"
   ]
  },
  {
   "cell_type": "code",
   "execution_count": 13,
   "metadata": {},
   "outputs": [
    {
     "name": "stdout",
     "output_type": "stream",
     "text": [
      "test1/test.json 0\n",
      "test1/test.out 1\n",
      "test1/test1.txt 0\n"
     ]
    }
   ],
   "source": [
    "from smart_open import s3\n",
    "# we use workers=1 for reproducibility; you should use as many workers as you have cores\n",
    "bucket = 'export-test-tmuth'\n",
    "prefix = 'test1'\n",
    "for key, content in s3.iter_bucket(bucket, prefix=prefix, accept_key=lambda key: '/t' in key, workers=1, key_limit=3):\n",
    "    print(key, round(len(content) / 2**20))"
   ]
  },
  {
   "cell_type": "code",
   "execution_count": 18,
   "metadata": {},
   "outputs": [
    {
     "name": "stdout",
     "output_type": "stream",
     "text": [
      "12\n",
      "s3.Object(bucket_name='export-test-tmuth', key='test1/test1.txt')\n"
     ]
    }
   ],
   "source": [
    "import boto3\n",
    "from pprint import pprint\n",
    "from smart_open import open\n",
    "# tp = {'min_part_size': 5 * 1024**2}\n",
    "lots_of_data=\"Hello world\"\n",
    "resource = boto3.resource('s3') \n",
    "with open('s3://export-test-tmuth/test1/test1.txt', 'w') as fout:\n",
    "    # fout.write(lots_of_data)\n",
    "    print(lots_of_data,file=fout)\n",
    "    print(fout.tell())\n",
    "    boto3_object = fout.to_boto3(resource)\n",
    "    pprint(boto3_object)\n"
   ]
  },
  {
   "cell_type": "code",
   "execution_count": 15,
   "metadata": {},
   "outputs": [],
   "source": [
    "import boto3\n",
    "\n",
    "s3 = boto3.resource('s3')\n",
    "copy_source = {\n",
    "    'Bucket': 'export-test-tmuth',\n",
    "    'Key': 'test1/test1.txt'\n",
    "}\n",
    "s3.meta.client.copy(copy_source, 'export-test-tmuth', 'test1/test2.txt')\n"
   ]
  },
  {
   "cell_type": "code",
   "execution_count": 17,
   "metadata": {},
   "outputs": [
    {
     "data": {
      "text/plain": [
       "{'ResponseMetadata': {'RequestId': 'M9SWZ9HR943RRR9C',\n",
       "  'HostId': '3l4GTf1sh3vyoU0QS77EbA23FfiyH9ebDEmImykbyA/Hu4/bLDeDaiz2ZnKFQNc9I2bNXnudIGU=',\n",
       "  'HTTPStatusCode': 204,\n",
       "  'HTTPHeaders': {'x-amz-id-2': '3l4GTf1sh3vyoU0QS77EbA23FfiyH9ebDEmImykbyA/Hu4/bLDeDaiz2ZnKFQNc9I2bNXnudIGU=',\n",
       "   'x-amz-request-id': 'M9SWZ9HR943RRR9C',\n",
       "   'date': 'Fri, 04 Nov 2022 12:15:50 GMT',\n",
       "   'server': 'AmazonS3'},\n",
       "  'RetryAttempts': 0}}"
      ]
     },
     "execution_count": 17,
     "metadata": {},
     "output_type": "execute_result"
    }
   ],
   "source": [
    "# delete = s3.delete_object(Bucket='export-test-tmuth', Key='test1/test2.txt')\n",
    "s3.Object('export-test-tmuth', 'test1/test2.txt').delete()"
   ]
  },
  {
   "cell_type": "code",
   "execution_count": 19,
   "metadata": {},
   "outputs": [
    {
     "name": "stdout",
     "output_type": "stream",
     "text": [
      "my-bucket\n",
      "some_folder/another_folder/my_file.txt\n"
     ]
    }
   ],
   "source": [
    "def split_s3_path(s3_path):\n",
    "    path_parts=s3_path.replace(\"s3://\",\"\").split(\"/\")\n",
    "    bucket=path_parts.pop(0)\n",
    "    key=\"/\".join(path_parts)\n",
    "    return bucket, key\n",
    "\n",
    "bucket, key = split_s3_path(\"s3://my-bucket/some_folder/another_folder/my_file.txt\")\n",
    "print(bucket)\n",
    "print(key)"
   ]
  },
  {
   "cell_type": "code",
   "execution_count": null,
   "metadata": {},
   "outputs": [],
   "source": []
  }
 ],
 "metadata": {
  "kernelspec": {
   "display_name": "Python 3.9.10 64-bit",
   "language": "python",
   "name": "python3"
  },
  "language_info": {
   "codemirror_mode": {
    "name": "ipython",
    "version": 3
   },
   "file_extension": ".py",
   "mimetype": "text/x-python",
   "name": "python",
   "nbconvert_exporter": "python",
   "pygments_lexer": "ipython3",
   "version": "3.9.10"
  },
  "orig_nbformat": 4,
  "vscode": {
   "interpreter": {
    "hash": "aee8b7b246df8f9039afb4144a1f6fd8d2ca17a180786b69acc140d282b71a49"
   }
  }
 },
 "nbformat": 4,
 "nbformat_minor": 2
}
